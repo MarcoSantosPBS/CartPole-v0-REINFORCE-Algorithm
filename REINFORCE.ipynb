{
 "cells": [
  {
   "cell_type": "code",
   "execution_count": 1,
   "metadata": {},
   "outputs": [],
   "source": [
    "import gym\n",
    "import torch\n",
    "import torch.nn as nn\n",
    "import torch.nn.functional as F\n",
    "import torch.optim as optim\n",
    "import numpy as np\n",
    "from torch.distributions import Categorical\n",
    "from collections import deque"
   ]
  },
  {
   "cell_type": "code",
   "execution_count": 2,
   "metadata": {},
   "outputs": [],
   "source": [
    "env = gym.make('CartPole-v0')"
   ]
  },
  {
   "cell_type": "code",
   "execution_count": 3,
   "metadata": {},
   "outputs": [
    {
     "name": "stdout",
     "output_type": "stream",
     "text": [
      "action space: Discrete(2)\n",
      "state space: Box(4,)\n"
     ]
    }
   ],
   "source": [
    "print(f'action space: {env.action_space}')\n",
    "print(f'state space: {env.observation_space}')"
   ]
  },
  {
   "cell_type": "code",
   "execution_count": 4,
   "metadata": {},
   "outputs": [],
   "source": [
    "class Policy(nn.Module):\n",
    "    \n",
    "    def __init__(self, action_space, state_space):\n",
    "        \n",
    "        super(Policy, self).__init__()\n",
    "        self.fc1 = nn.Linear(state_space, 16)\n",
    "        self.fc2 = nn.Linear(16, action_space)\n",
    "        \n",
    "    def forward(self, state):\n",
    "        \n",
    "        x = F.relu(self.fc1(state))\n",
    "        x = self.fc2(x)\n",
    "        \n",
    "        return F.softmax(x, dim = 1)\n",
    "    \n",
    "    def act(self, state):\n",
    "        \n",
    "        state = torch.from_numpy(state).float().unsqueeze(0).to('cuda:0')\n",
    "        x = self.forward(state).cpu()\n",
    "        m = Categorical(x)\n",
    "        action = m.sample()\n",
    "        \n",
    "        return action.item(), m.log_prob(action)"
   ]
  },
  {
   "cell_type": "code",
   "execution_count": 14,
   "metadata": {
    "scrolled": true
   },
   "outputs": [
    {
     "name": "stdout",
     "output_type": "stream",
     "text": [
      "Episode 100\tAverage Score: 22.36\n",
      "Episode 200\tAverage Score: 28.03\n",
      "Episode 300\tAverage Score: 39.22\n",
      "Episode 400\tAverage Score: 87.95\n",
      "Episode 500\tAverage Score: 135.43\n",
      "Episode 600\tAverage Score: 145.07\n",
      "Environment solved in 584 episodes!\tAverage Score: 195.11\n"
     ]
    }
   ],
   "source": [
    "model = Policy(2, 4).to('cuda:0')\n",
    "optimizer = optim.Adam(model.parameters(), lr = 1e-2)\n",
    "\n",
    "GAMMA = 1.0\n",
    "score_deque = deque(maxlen=100)\n",
    "scores = []\n",
    "\n",
    "for episode in range(1, 2001):\n",
    "    \n",
    "    saved_log_samples = []\n",
    "    rewards = []    \n",
    "    \n",
    "    state = env.reset()\n",
    "    \n",
    "    for i in range(1000):\n",
    "    \n",
    "        action, log_prob = model.act(state)\n",
    "        state, reward, done, _ = env.step(action)\n",
    "        saved_log_samples.append(log_prob)\n",
    "        rewards.append(reward)\n",
    "        \n",
    "        if done:\n",
    "            break\n",
    "    \n",
    "    score_deque.append(sum(rewards))\n",
    "    scores.append(sum(rewards))\n",
    "    \n",
    "    discounts = [GAMMA**i for i in range(len(rewards) +1)]\n",
    "    R = sum([r*d for r,d in zip(rewards,discounts)])\n",
    "    \n",
    "    log_probs = []\n",
    "    for log_prob in saved_log_samples:\n",
    "        log_probs.append(-log_prob * R)    \n",
    "    log_probs = torch.cat(log_probs).sum()\n",
    "\n",
    "    optimizer.zero_grad()\n",
    "    log_probs.backward()\n",
    "    optimizer.step()\n",
    "    \n",
    "    if episode % 100 == 0:\n",
    "        print('Episode {}\\tAverage Score: {:.2f}'.format(episode, np.mean(score_deque)))\n",
    "        \n",
    "    if np.mean(score_deque)>=195.0:\n",
    "        print('Environment solved in {:d} episodes!\\tAverage Score: {:.2f}'.format(episode-100, np.mean(score_deque)))\n",
    "        \n",
    "        break"
   ]
  },
  {
   "cell_type": "code",
   "execution_count": 30,
   "metadata": {},
   "outputs": [
    {
     "data": {
      "image/png": "[encoded data removed]",
      "text/plain": [
       "<Figure size 432x288 with 1 Axes>"
      ]
     },
     "metadata": {
      "needs_background": "light"
     },
     "output_type": "display_data"
    }
   ],
   "source": [
    "import matplotlib.pyplot as plt\n",
    "%matplotlib inline\n",
    "\n",
    "fig = plt.figure()\n",
    "\n",
    "plt.plot(np.arange(1, len(scores)+1), scores)\n",
    "plt.xlabel('Episodes')\n",
    "plt.ylabel('Score')\n",
    "plt.show()"
   ]
  }
 ],
 "metadata": {
  "kernelspec": {
   "display_name": "Python3.7.2",
   "language": "python",
   "name": "python3.7.2"
  },
  "language_info": {
   "codemirror_mode": {
    "name": "ipython",
    "version": 3
   },
   "file_extension": ".py",
   "mimetype": "text/x-python",
   "name": "python",
   "nbconvert_exporter": "python",
   "pygments_lexer": "ipython3",
   "version": "3.7.2"
  }
 },
 "nbformat": 4,
 "nbformat_minor": 2
}
